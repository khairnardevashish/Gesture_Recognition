{
 "cells": [
  {
   "cell_type": "code",
   "execution_count": null,
   "metadata": {},
   "outputs": [],
   "source": [
    "# Gesture Recognition\n",
    "In this group project, you are going to build a 3D Conv model that will be able to predict the 5 gestures correctly. Please import the following libraries to get started. Once you have completed the code you can download the notebook for making a submission."
   ]
  },
  {
   "cell_type": "code",
   "execution_count": 4,
   "metadata": {},
   "outputs": [],
   "source": [
    "import numpy as np\n",
    "import os\n",
    "from imageio import imread\n",
    "from skimage.transform import resize as imresize\n",
    "import datetime\n",
    "import os"
   ]
  },
  {
   "cell_type": "markdown",
   "metadata": {},
   "source": [
    "We set the random seed so that the results don't vary drastically."
   ]
  },
  {
   "cell_type": "code",
   "execution_count": 5,
   "metadata": {},
   "outputs": [],
   "source": [
    "np.random.seed(30)\n",
    "import random as rn\n",
    "rn.seed(30)\n",
    "from tensorflow import keras\n",
    "import tensorflow as tf\n",
    "tf.random.set_seed(30)"
   ]
  },
  {
   "cell_type": "markdown",
   "metadata": {},
   "source": [
    "In this block, you read the folder names for training and validation. You also set the `batch_size` here. Note that you set the batch size in such a way that you are able to use the GPU in full capacity. You keep increasing the batch size until the machine throws an error."
   ]
  },
  {
   "cell_type": "markdown",
   "metadata": {},
   "source": [
    "**data path: /home/datasets/Project_data**"
   ]
  },
  {
   "cell_type": "code",
   "execution_count": 6,
   "metadata": {},
   "outputs": [],
   "source": [
    "train_doc = np.random.permutation(open('/home/datasets/Project_data/train.csv').readlines())\n",
    "val_doc = np.random.permutation(open('/home/datasets/Project_data/val.csv').readlines())\n",
    "batch_size = 52"
   ]
  },
  {
   "cell_type": "markdown",
   "metadata": {},
   "source": [
    "## Generator\n",
    "This is one of the most important part of the code. The overall structure of the generator has been given. In the generator, you are going to preprocess the images as you have images of 2 different dimensions as well as create a batch of video frames. You have to experiment with `img_idx`, `y`,`z` and normalization such that you get high accuracy."
   ]
  },
  {
   "cell_type": "code",
   "execution_count": 7,
   "metadata": {},
   "outputs": [
    {
     "name": "stdout",
     "output_type": "stream",
     "text": [
      "18\n"
     ]
    }
   ],
   "source": [
    "image_idx = [0,2,4,6,7,8,10,12,15,16,18,20,22,23,24,26,28,29]\n",
    "idx_len = len(image_idx)\n",
    "print(idx_len)\n",
    "\n",
    "image_height = 96\n",
    "image_width = 96\n"
   ]
  },
  {
   "cell_type": "code",
   "execution_count": 8,
   "metadata": {},
   "outputs": [],
   "source": [
    "def generator(source_path, folder_list, batch_size):\n",
    "    print( 'Source path = ', source_path, '; batch size =', batch_size)\n",
    "    img_idx = image_idx #create a list of image numbers you want to use for a particular video\n",
    "    while True:\n",
    "        t = np.random.permutation(folder_list)\n",
    "        num_batches = len(t)//batch_size # calculate the number of batches\n",
    "        for batch in range(num_batches): # we iterate over the number of batches\n",
    "            batch_data = np.zeros((batch_size,18,image_height,image_width,3)) # x is the number of images you use for each video, (y,z) is the final size of the input images and 3 is the number of channels RGB\n",
    "            batch_labels = np.zeros((batch_size,5)) # batch_labels is the one hot representation of the output\n",
    "            for folder in range(batch_size): # iterate over the batch_size\n",
    "                imgs = os.listdir(source_path+'/'+ t[folder + (batch*batch_size)].split(';')[0]) # read all the images in the folder\n",
    "                for idx,item in enumerate(img_idx): #  Iterate iver the frames/images of a folder to read them in\n",
    "                    image = imread(source_path+'/'+ t[folder + (batch*batch_size)].strip().split(';')[0]+'/'+imgs[item]).astype(np.float32)\n",
    "                    \n",
    "                    # Reshaping images and trimming it first from corners if shape has 160 width\n",
    "                    if image.shape[1] == 160:\n",
    "                        image = imresize(image[:,20:140,:],(image_height,image_width)).astype(np.float32)\n",
    "                    else:\n",
    "                        image = imresize(image,(image_height,image_width)).astype(np.float32)\n",
    "                        \n",
    "                    #crop the images and resize them. Note that the images are of 2 different shape \n",
    "                    #and the conv3D will throw error if the inputs in a batch have different shapes\n",
    "\n",
    "                    # Doing max normalization rather than dividing just by 255.\n",
    "                    batch_data[folder,idx,:,:,0]  = (image[:,:,0]) / (image[:,:,0]).max()\n",
    "                    batch_data[folder,idx,:,:,1]  = (image[:,:,1]) / (image[:,:,1]).max()\n",
    "                    batch_data[folder,idx,:,:,2]  = (image[:,:,2]) / (image[:,:,2]).max()\n",
    "                    \n",
    "                batch_labels[folder, int(t[folder + (batch*batch_size)].strip().split(';')[2])] = 1\n",
    "            yield batch_data, batch_labels #you yield the batch_data and the batch_labels, remember what does yield do\n",
    "\n",
    "        \n",
    "        # write the code for the remaining data points which are left after full batches\n",
    "        rem_sequemce_len = 0\n",
    "        if((len(t)%batch_size)!=0):\n",
    "            rem_sequemce_len = len(t)%batch_size\n",
    "        \n",
    "        for batch in range(num_batches): # we iterate over the number of batches\n",
    "            batch_data = np.zeros((rem_sequemce_len,18,image_height,image_width,3)) # x is the number of images you use for each video, (y,z) is the final size of the input images and 3 is the number of channels RGB\n",
    "            batch_labels = np.zeros((rem_sequemce_len,5)) # batch_labels is the one hot representation of the output\n",
    "\n",
    "            for folder in range(rem_sequemce_len): # iterate over the batch_size\n",
    "                imgs = os.listdir(source_path+'/'+ t[folder + (batch*batch_size)].split(';')[0]) # read all the images in the folder\n",
    "                for idx,item in enumerate(img_idx): #  Iterate iver the frames/images of a folder to read them in\n",
    "                    image = imread(source_path+'/'+ t[folder + (batch*batch_size)].strip().split(';')[0]+'/'+imgs[item]).astype(np.float32)\n",
    "                   \n",
    "                    if image.shape[1] == 160:\n",
    "                        image = imresize(image[:,20:140,:],(image_height,image_width)).astype(np.float32)\n",
    "                    else:\n",
    "                        image = imresize(image,(image_height,image_width)).astype(np.float32)\n",
    "                    #image = imresize(image,(120,120,3))\n",
    "                    #crop the images and resize them. Note that the images are of 2 different shape \n",
    "                    #and the conv3D will throw error if the inputs in a batch have different shapes\n",
    "                    #image = image_augmentation(image)\n",
    "                    \n",
    "                    batch_data[folder,idx,:,:,0]  = (image[:,:,0]) / (image[:,:,0]).max()\n",
    "                    batch_data[folder,idx,:,:,1]  = (image[:,:,1]) / (image[:,:,1]).max()\n",
    "                    batch_data[folder,idx,:,:,2]  = (image[:,:,2]) / (image[:,:,2]).max()\n",
    "                    \n",
    "                batch_labels[folder, int(t[folder + (batch*batch_size)].strip().split(';')[2])] = 1\n",
    "            yield batch_data, batch_labels #you yield the batch_data and the batch_labels, remember what does yield do"
   ]
  },
  {
   "cell_type": "markdown",
   "metadata": {},
   "source": [
    "Note here that a video is represented above in the generator as (number of images, height, width, number of channels). Take this into consideration while creating the model architecture."
   ]
  },
  {
   "cell_type": "code",
   "execution_count": 9,
   "metadata": {},
   "outputs": [
    {
     "name": "stdout",
     "output_type": "stream",
     "text": [
      "# training sequences = 663\n",
      "# validation sequences = 100\n",
      "# epochs = 50\n"
     ]
    }
   ],
   "source": [
    "curr_dt_time = datetime.datetime.now()\n",
    "train_path = '/home/datasets/Project_data/train'\n",
    "val_path = '/home/datasets/Project_data/val'\n",
    "num_train_sequences = len(train_doc)\n",
    "print('# training sequences =', num_train_sequences)\n",
    "num_val_sequences = len(val_doc)\n",
    "print('# validation sequences =', num_val_sequences)\n",
    "num_epochs = 50\n",
    "print ('# epochs =', num_epochs)"
   ]
  },
  {
   "cell_type": "markdown",
   "metadata": {},
   "source": [
    "## Model\n",
    "Here you make the model using different functionalities that Keras provides. Remember to use `Conv3D` and `MaxPooling3D` and not `Conv2D` and `Maxpooling2D` for a 3D convolution model. You would want to use `TimeDistributed` while building a Conv2D + RNN model. Also remember that the last layer is the softmax. Design the network in such a way that the model is able to give good accuracy on the least number of parameters so that it can fit in the memory of the webcam."
   ]
  },
  {
   "cell_type": "code",
   "execution_count": 10,
   "metadata": {},
   "outputs": [],
   "source": [
    "from tensorflow.keras.applications import mobilenet"
   ]
  },
  {
   "cell_type": "code",
   "execution_count": 11,
   "metadata": {},
   "outputs": [
    {
     "name": "stdout",
     "output_type": "stream",
     "text": [
      "WARNING:tensorflow:`input_shape` is undefined or non-square, or `rows` is not in [128, 160, 192, 224]. Weights for input shape (224, 224) will be loaded as the default.\n"
     ]
    }
   ],
   "source": [
    "from tensorflow.keras.applications import mobilenet\n",
    "from tensorflow.keras.models import Sequential\n",
    "from tensorflow.keras.layers import Dense, GRU, Dropout, Flatten, BatchNormalization, Activation, TimeDistributed, LSTM, MaxPooling2D\n",
    "from tensorflow.keras.callbacks import ModelCheckpoint, ReduceLROnPlateau\n",
    "from tensorflow.keras import optimizers\n",
    "\n",
    "#write your model here\n",
    "\n",
    "mobileNet = mobilenet.MobileNet(weights='imagenet', include_top=False)\n",
    "\n",
    "Input_shape = (idx_len, image_height, image_width, 3)\n",
    "\n",
    "model = Sequential()\n",
    "model.add(TimeDistributed(mobileNet,input_shape=Input_shape))\n",
    "\n",
    "\n",
    "for layer in model.layers:\n",
    "    layer.trainable = True\n",
    "\n",
    "\n",
    "model.add(TimeDistributed(BatchNormalization()))\n",
    "model.add(TimeDistributed(MaxPooling2D((2, 2))))\n",
    "model.add(TimeDistributed(Flatten()))\n",
    "\n",
    "model.add(LSTM(64))\n",
    "model.add(Dropout(0.40))\n",
    "\n",
    "model.add(Dense(64,activation='relu'))\n",
    "model.add(Dropout(0.40))\n",
    "\n",
    "model.add(Dense(5, activation='softmax'))"
   ]
  },
  {
   "cell_type": "markdown",
   "metadata": {},
   "source": [
    "Now that you have written the model, the next step is to `compile` the model. When you print the `summary` of the model, you'll see the total number of parameters you have to train."
   ]
  },
  {
   "cell_type": "code",
   "execution_count": 12,
   "metadata": {},
   "outputs": [
    {
     "name": "stdout",
     "output_type": "stream",
     "text": [
      "Model: \"sequential\"\n",
      "_________________________________________________________________\n",
      "Layer (type)                 Output Shape              Param #   \n",
      "=================================================================\n",
      "time_distributed (TimeDistri (None, 18, 3, 3, 1024)    3228864   \n",
      "_________________________________________________________________\n",
      "time_distributed_1 (TimeDist (None, 18, 3, 3, 1024)    4096      \n",
      "_________________________________________________________________\n",
      "time_distributed_2 (TimeDist (None, 18, 1, 1, 1024)    0         \n",
      "_________________________________________________________________\n",
      "time_distributed_3 (TimeDist (None, 18, 1024)          0         \n",
      "_________________________________________________________________\n",
      "lstm (LSTM)                  (None, 64)                278784    \n",
      "_________________________________________________________________\n",
      "dropout (Dropout)            (None, 64)                0         \n",
      "_________________________________________________________________\n",
      "dense (Dense)                (None, 64)                4160      \n",
      "_________________________________________________________________\n",
      "dropout_1 (Dropout)          (None, 64)                0         \n",
      "_________________________________________________________________\n",
      "dense_1 (Dense)              (None, 5)                 325       \n",
      "=================================================================\n",
      "Total params: 3,516,229\n",
      "Trainable params: 3,492,293\n",
      "Non-trainable params: 23,936\n",
      "_________________________________________________________________\n",
      "None\n"
     ]
    }
   ],
   "source": [
    "optimiser = tf.optimizers.Adam(learning_rate=1e-2)\n",
    "model.compile(optimizer=optimiser, loss='categorical_crossentropy', metrics=['categorical_accuracy'])\n",
    "print (model.summary())"
   ]
  },
  {
   "cell_type": "markdown",
   "metadata": {},
   "source": [
    "Let us create the `train_generator` and the `val_generator` which will be used in `.fit_generator`."
   ]
  },
  {
   "cell_type": "code",
   "execution_count": 13,
   "metadata": {},
   "outputs": [],
   "source": [
    "train_generator = generator(train_path, train_doc, batch_size)\n",
    "val_generator = generator(val_path, val_doc, batch_size)"
   ]
  },
  {
   "cell_type": "code",
   "execution_count": 14,
   "metadata": {},
   "outputs": [],
   "source": [
    "from tensorflow.keras.callbacks import ModelCheckpoint, ReduceLROnPlateau, EarlyStopping\n",
    "\n",
    "model_name = 'model_13' + '_' + str(curr_dt_time).replace(' ','').replace(':','_') + '/'\n",
    "    \n",
    "if not os.path.exists(model_name):\n",
    "    os.mkdir(model_name)\n",
    "        \n",
    "filepath = model_name + 'model-{epoch:05d}-{loss:.5f}-{categorical_accuracy:.5f}-{val_loss:.5f}-{val_categorical_accuracy:.5f}.h5'\n",
    "\n",
    "checkpoint = ModelCheckpoint(filepath, monitor = 'val_loss',\n",
    "                                    mode = 'min',\n",
    "                                    save_best_only = True,\n",
    "                                    verbose = 1)\n",
    "\n",
    "LR = ReduceLROnPlateau(monitor = \"val_loss\", factor = 0.1, patience = 3, verbose = 1)\n",
    "        \n",
    "#early_stop = EarlyStopping(monitor = \"loss\", patience=9, restore_best_weights =True, verbose=1)\n",
    "callbacks_list = [checkpoint, LR]"
   ]
  },
  {
   "cell_type": "markdown",
   "metadata": {},
   "source": [
    "The `steps_per_epoch` and `validation_steps` are used by `fit` method to decide the number of next() calls it need to make."
   ]
  },
  {
   "cell_type": "code",
   "execution_count": 15,
   "metadata": {},
   "outputs": [],
   "source": [
    "if (num_train_sequences%batch_size) == 0:\n",
    "    steps_per_epoch = int(num_train_sequences/batch_size)\n",
    "else:\n",
    "    steps_per_epoch = (num_train_sequences//batch_size) + 1\n",
    "\n",
    "if (num_val_sequences%batch_size) == 0:\n",
    "    validation_steps = int(num_val_sequences/batch_size)\n",
    "else:\n",
    "    validation_steps = (num_val_sequences//batch_size) + 1"
   ]
  },
  {
   "cell_type": "markdown",
   "metadata": {},
   "source": [
    "Let us now fit the model. This will start training the model and with the help of the checkpoints, you'll be able to save the model at the end of each epoch."
   ]
  },
  {
   "cell_type": "code",
   "execution_count": 16,
   "metadata": {},
   "outputs": [
    {
     "name": "stdout",
     "output_type": "stream",
     "text": [
      "Source path =  /home/datasets/Project_data/train ; batch size = 52\n",
      "Epoch 1/50\n",
      "13/13 [==============================] - ETA: 0s - loss: 1.6322 - categorical_accuracy: 0.2715Source path =  /home/datasets/Project_data/val ; batch size = 52\n",
      "\n",
      "Epoch 00001: val_loss improved from inf to 1.67552, saving model to model_13_2021-11-2804_32_25.433727/model-00001-1.63224-0.27149-1.67552-0.13000.h5\n",
      "13/13 [==============================] - 84s 6s/step - loss: 1.6322 - categorical_accuracy: 0.2715 - val_loss: 1.6755 - val_categorical_accuracy: 0.1300\n",
      "Epoch 2/50\n",
      "13/13 [==============================] - ETA: 0s - loss: 1.4537 - categorical_accuracy: 0.3696\n",
      "Epoch 00002: val_loss did not improve from 1.67552\n",
      "13/13 [==============================] - 73s 6s/step - loss: 1.4537 - categorical_accuracy: 0.3696 - val_loss: 1.6916 - val_categorical_accuracy: 0.2200\n",
      "Epoch 3/50\n",
      "13/13 [==============================] - ETA: 0s - loss: 1.3442 - categorical_accuracy: 0.4411\n",
      "Epoch 00003: val_loss did not improve from 1.67552\n",
      "13/13 [==============================] - 84s 6s/step - loss: 1.3442 - categorical_accuracy: 0.4411 - val_loss: 1.9491 - val_categorical_accuracy: 0.2200\n",
      "Epoch 4/50\n",
      "13/13 [==============================] - ETA: 0s - loss: 1.2546 - categorical_accuracy: 0.5027\n",
      "Epoch 00004: val_loss did not improve from 1.67552\n",
      "\n",
      "Epoch 00004: ReduceLROnPlateau reducing learning rate to 0.0009999999776482583.\n",
      "13/13 [==============================] - 75s 6s/step - loss: 1.2546 - categorical_accuracy: 0.5027 - val_loss: 2.4570 - val_categorical_accuracy: 0.1800\n",
      "Epoch 5/50\n",
      "13/13 [==============================] - ETA: 0s - loss: 1.1138 - categorical_accuracy: 0.5483\n",
      "Epoch 00005: val_loss did not improve from 1.67552\n",
      "13/13 [==============================] - 81s 6s/step - loss: 1.1138 - categorical_accuracy: 0.5483 - val_loss: 1.7903 - val_categorical_accuracy: 0.3100\n",
      "Epoch 6/50\n",
      "13/13 [==============================] - ETA: 0s - loss: 1.0360 - categorical_accuracy: 0.5966\n",
      "Epoch 00006: val_loss improved from 1.67552 to 1.21063, saving model to model_13_2021-11-2804_32_25.433727/model-00006-1.03596-0.59658-1.21063-0.52000.h5\n",
      "13/13 [==============================] - 80s 6s/step - loss: 1.0360 - categorical_accuracy: 0.5966 - val_loss: 1.2106 - val_categorical_accuracy: 0.5200\n",
      "Epoch 7/50\n",
      "13/13 [==============================] - ETA: 0s - loss: 0.9791 - categorical_accuracy: 0.6462\n",
      "Epoch 00007: val_loss improved from 1.21063 to 1.04194, saving model to model_13_2021-11-2804_32_25.433727/model-00007-0.97914-0.64615-1.04194-0.66000.h5\n",
      "13/13 [==============================] - 77s 6s/step - loss: 0.9791 - categorical_accuracy: 0.6462 - val_loss: 1.0419 - val_categorical_accuracy: 0.6600\n",
      "Epoch 8/50\n",
      "13/13 [==============================] - ETA: 0s - loss: 0.8813 - categorical_accuracy: 0.6743\n",
      "Epoch 00008: val_loss improved from 1.04194 to 0.86709, saving model to model_13_2021-11-2804_32_25.433727/model-00008-0.88127-0.67430-0.86709-0.69000.h5\n",
      "13/13 [==============================] - 80s 6s/step - loss: 0.8813 - categorical_accuracy: 0.6743 - val_loss: 0.8671 - val_categorical_accuracy: 0.6900\n",
      "Epoch 9/50\n",
      "13/13 [==============================] - ETA: 0s - loss: 0.8470 - categorical_accuracy: 0.6887\n",
      "Epoch 00009: val_loss did not improve from 0.86709\n",
      "13/13 [==============================] - 76s 6s/step - loss: 0.8470 - categorical_accuracy: 0.6887 - val_loss: 0.8987 - val_categorical_accuracy: 0.7500\n",
      "Epoch 10/50\n",
      "13/13 [==============================] - ETA: 0s - loss: 0.7525 - categorical_accuracy: 0.7268\n",
      "Epoch 00010: val_loss did not improve from 0.86709\n",
      "13/13 [==============================] - 85s 7s/step - loss: 0.7525 - categorical_accuracy: 0.7268 - val_loss: 1.0013 - val_categorical_accuracy: 0.6700\n",
      "Epoch 11/50\n",
      "13/13 [==============================] - ETA: 0s - loss: 0.7090 - categorical_accuracy: 0.7467\n",
      "Epoch 00011: val_loss improved from 0.86709 to 0.80888, saving model to model_13_2021-11-2804_32_25.433727/model-00011-0.70899-0.74672-0.80888-0.68000.h5\n",
      "13/13 [==============================] - 73s 6s/step - loss: 0.7090 - categorical_accuracy: 0.7467 - val_loss: 0.8089 - val_categorical_accuracy: 0.6800\n",
      "Epoch 12/50\n",
      "13/13 [==============================] - ETA: 0s - loss: 0.6452 - categorical_accuracy: 0.7919\n",
      "Epoch 00012: val_loss improved from 0.80888 to 0.70596, saving model to model_13_2021-11-2804_32_25.433727/model-00012-0.64517-0.79186-0.70596-0.80000.h5\n",
      "13/13 [==============================] - 86s 7s/step - loss: 0.6452 - categorical_accuracy: 0.7919 - val_loss: 0.7060 - val_categorical_accuracy: 0.8000\n",
      "Epoch 13/50\n",
      "13/13 [==============================] - ETA: 0s - loss: 0.6216 - categorical_accuracy: 0.8212\n",
      "Epoch 00013: val_loss improved from 0.70596 to 0.49176, saving model to model_13_2021-11-2804_32_25.433727/model-00013-0.62159-0.82115-0.49176-0.87000.h5\n",
      "13/13 [==============================] - 73s 6s/step - loss: 0.6216 - categorical_accuracy: 0.8212 - val_loss: 0.4918 - val_categorical_accuracy: 0.8700\n",
      "Epoch 14/50\n",
      "13/13 [==============================] - ETA: 0s - loss: 0.5464 - categorical_accuracy: 0.8185\n",
      "Epoch 00014: val_loss did not improve from 0.49176\n",
      "13/13 [==============================] - 84s 6s/step - loss: 0.5464 - categorical_accuracy: 0.8185 - val_loss: 0.7139 - val_categorical_accuracy: 0.7900\n",
      "Epoch 15/50\n",
      "13/13 [==============================] - ETA: 0s - loss: 0.5823 - categorical_accuracy: 0.8260\n",
      "Epoch 00015: val_loss did not improve from 0.49176\n",
      "13/13 [==============================] - 73s 6s/step - loss: 0.5823 - categorical_accuracy: 0.8260 - val_loss: 0.5363 - val_categorical_accuracy: 0.9000\n",
      "Epoch 16/50\n",
      "13/13 [==============================] - ETA: 0s - loss: 0.4698 - categorical_accuracy: 0.8798\n",
      "Epoch 00016: val_loss improved from 0.49176 to 0.38949, saving model to model_13_2021-11-2804_32_25.433727/model-00016-0.46977-0.87981-0.38949-0.88000.h5\n",
      "13/13 [==============================] - 82s 6s/step - loss: 0.4698 - categorical_accuracy: 0.8798 - val_loss: 0.3895 - val_categorical_accuracy: 0.8800\n",
      "Epoch 17/50\n",
      "13/13 [==============================] - ETA: 0s - loss: 0.4043 - categorical_accuracy: 0.8811\n",
      "Epoch 00017: val_loss did not improve from 0.38949\n",
      "13/13 [==============================] - 77s 6s/step - loss: 0.4043 - categorical_accuracy: 0.8811 - val_loss: 0.6173 - val_categorical_accuracy: 0.8200\n",
      "Epoch 18/50\n",
      "13/13 [==============================] - ETA: 0s - loss: 0.4259 - categorical_accuracy: 0.8896\n",
      "Epoch 00018: val_loss improved from 0.38949 to 0.33642, saving model to model_13_2021-11-2804_32_25.433727/model-00018-0.42592-0.88963-0.33642-0.93000.h5\n",
      "13/13 [==============================] - 80s 6s/step - loss: 0.4259 - categorical_accuracy: 0.8896 - val_loss: 0.3364 - val_categorical_accuracy: 0.9300\n",
      "Epoch 19/50\n",
      "13/13 [==============================] - ETA: 0s - loss: 0.3592 - categorical_accuracy: 0.9047\n",
      "Epoch 00019: val_loss improved from 0.33642 to 0.27731, saving model to model_13_2021-11-2804_32_25.433727/model-00019-0.35925-0.90468-0.27731-0.94000.h5\n",
      "13/13 [==============================] - 80s 6s/step - loss: 0.3592 - categorical_accuracy: 0.9047 - val_loss: 0.2773 - val_categorical_accuracy: 0.9400\n",
      "Epoch 20/50\n",
      "13/13 [==============================] - ETA: 0s - loss: 0.3137 - categorical_accuracy: 0.9231\n",
      "Epoch 00020: val_loss did not improve from 0.27731\n",
      "13/13 [==============================] - 76s 6s/step - loss: 0.3137 - categorical_accuracy: 0.9231 - val_loss: 0.3943 - val_categorical_accuracy: 0.9000\n",
      "Epoch 21/50\n",
      "13/13 [==============================] - ETA: 0s - loss: 0.2890 - categorical_accuracy: 0.9247\n",
      "Epoch 00021: val_loss did not improve from 0.27731\n",
      "13/13 [==============================] - 86s 7s/step - loss: 0.2890 - categorical_accuracy: 0.9247 - val_loss: 0.5255 - val_categorical_accuracy: 0.8500\n",
      "Epoch 22/50\n",
      "13/13 [==============================] - ETA: 0s - loss: 0.2417 - categorical_accuracy: 0.9524\n",
      "Epoch 00022: val_loss did not improve from 0.27731\n",
      "\n",
      "Epoch 00022: ReduceLROnPlateau reducing learning rate to 9.999999310821295e-05.\n",
      "13/13 [==============================] - 74s 6s/step - loss: 0.2417 - categorical_accuracy: 0.9524 - val_loss: 0.7642 - val_categorical_accuracy: 0.7500\n",
      "Epoch 23/50\n",
      "13/13 [==============================] - ETA: 0s - loss: 0.2431 - categorical_accuracy: 0.9415\n",
      "Epoch 00023: val_loss did not improve from 0.27731\n",
      "13/13 [==============================] - 87s 7s/step - loss: 0.2431 - categorical_accuracy: 0.9415 - val_loss: 0.3874 - val_categorical_accuracy: 0.9000\n",
      "Epoch 24/50\n",
      "13/13 [==============================] - ETA: 0s - loss: 0.2640 - categorical_accuracy: 0.9500\n",
      "Epoch 00024: val_loss did not improve from 0.27731\n",
      "13/13 [==============================] - 70s 5s/step - loss: 0.2640 - categorical_accuracy: 0.9500 - val_loss: 0.5544 - val_categorical_accuracy: 0.8500\n",
      "Epoch 25/50\n",
      "13/13 [==============================] - ETA: 0s - loss: 0.2145 - categorical_accuracy: 0.9487\n",
      "Epoch 00025: val_loss did not improve from 0.27731\n",
      "\n",
      "Epoch 00025: ReduceLROnPlateau reducing learning rate to 9.999999019782991e-06.\n",
      "13/13 [==============================] - 85s 7s/step - loss: 0.2145 - categorical_accuracy: 0.9487 - val_loss: 0.6574 - val_categorical_accuracy: 0.8300\n",
      "Epoch 26/50\n",
      "13/13 [==============================] - ETA: 0s - loss: 0.2261 - categorical_accuracy: 0.9456\n",
      "Epoch 00026: val_loss did not improve from 0.27731\n",
      "13/13 [==============================] - 73s 6s/step - loss: 0.2261 - categorical_accuracy: 0.9456 - val_loss: 0.5259 - val_categorical_accuracy: 0.8600\n",
      "Epoch 27/50\n",
      "13/13 [==============================] - ETA: 0s - loss: 0.2091 - categorical_accuracy: 0.9513\n",
      "Epoch 00027: val_loss did not improve from 0.27731\n",
      "13/13 [==============================] - 84s 6s/step - loss: 0.2091 - categorical_accuracy: 0.9513 - val_loss: 0.3678 - val_categorical_accuracy: 0.9100\n",
      "Epoch 28/50\n",
      "13/13 [==============================] - ETA: 0s - loss: 0.2091 - categorical_accuracy: 0.9624\n",
      "Epoch 00028: val_loss did not improve from 0.27731\n",
      "\n",
      "Epoch 00028: ReduceLROnPlateau reducing learning rate to 9.99999883788405e-07.\n",
      "13/13 [==============================] - 76s 6s/step - loss: 0.2091 - categorical_accuracy: 0.9624 - val_loss: 0.4479 - val_categorical_accuracy: 0.8700\n",
      "Epoch 29/50\n",
      "13/13 [==============================] - ETA: 0s - loss: 0.1941 - categorical_accuracy: 0.9574\n",
      "Epoch 00029: val_loss did not improve from 0.27731\n",
      "13/13 [==============================] - 81s 6s/step - loss: 0.1941 - categorical_accuracy: 0.9574 - val_loss: 0.3732 - val_categorical_accuracy: 0.9200\n",
      "Epoch 30/50\n",
      "13/13 [==============================] - ETA: 0s - loss: 0.2188 - categorical_accuracy: 0.9470\n",
      "Epoch 00030: val_loss did not improve from 0.27731\n",
      "13/13 [==============================] - 79s 6s/step - loss: 0.2188 - categorical_accuracy: 0.9470 - val_loss: 0.4518 - val_categorical_accuracy: 0.8900\n",
      "Epoch 31/50\n",
      "13/13 [==============================] - ETA: 0s - loss: 0.2442 - categorical_accuracy: 0.9419\n",
      "Epoch 00031: val_loss did not improve from 0.27731\n",
      "\n",
      "Epoch 00031: ReduceLROnPlateau reducing learning rate to 9.99999883788405e-08.\n",
      "13/13 [==============================] - 76s 6s/step - loss: 0.2442 - categorical_accuracy: 0.9419 - val_loss: 0.3573 - val_categorical_accuracy: 0.8900\n",
      "Epoch 32/50\n",
      "13/13 [==============================] - ETA: 0s - loss: 0.1909 - categorical_accuracy: 0.9689\n",
      "Epoch 00032: val_loss did not improve from 0.27731\n",
      "13/13 [==============================] - 82s 6s/step - loss: 0.1909 - categorical_accuracy: 0.9689 - val_loss: 0.5244 - val_categorical_accuracy: 0.8600\n",
      "Epoch 33/50\n",
      "13/13 [==============================] - ETA: 0s - loss: 0.1947 - categorical_accuracy: 0.9571\n",
      "Epoch 00033: val_loss did not improve from 0.27731\n",
      "13/13 [==============================] - 75s 6s/step - loss: 0.1947 - categorical_accuracy: 0.9571 - val_loss: 0.5708 - val_categorical_accuracy: 0.8600\n",
      "Epoch 34/50\n",
      "13/13 [==============================] - ETA: 0s - loss: 0.2188 - categorical_accuracy: 0.9545\n",
      "Epoch 00034: val_loss did not improve from 0.27731\n",
      "\n",
      "Epoch 00034: ReduceLROnPlateau reducing learning rate to 9.999998695775504e-09.\n",
      "13/13 [==============================] - 84s 6s/step - loss: 0.2188 - categorical_accuracy: 0.9545 - val_loss: 0.4445 - val_categorical_accuracy: 0.8900\n",
      "Epoch 35/50\n",
      "13/13 [==============================] - ETA: 0s - loss: 0.2178 - categorical_accuracy: 0.9456\n",
      "Epoch 00035: val_loss did not improve from 0.27731\n",
      "13/13 [==============================] - 75s 6s/step - loss: 0.2178 - categorical_accuracy: 0.9456 - val_loss: 0.4214 - val_categorical_accuracy: 0.8800\n",
      "Epoch 36/50\n",
      "13/13 [==============================] - ETA: 0s - loss: 0.2187 - categorical_accuracy: 0.9517\n",
      "Epoch 00036: val_loss did not improve from 0.27731\n",
      "13/13 [==============================] - 86s 7s/step - loss: 0.2187 - categorical_accuracy: 0.9517 - val_loss: 0.4082 - val_categorical_accuracy: 0.8700\n",
      "Epoch 37/50\n",
      "13/13 [==============================] - ETA: 0s - loss: 0.1911 - categorical_accuracy: 0.9615\n",
      "Epoch 00037: val_loss did not improve from 0.27731\n",
      "\n",
      "Epoch 00037: ReduceLROnPlateau reducing learning rate to 9.99999905104687e-10.\n",
      "13/13 [==============================] - 71s 5s/step - loss: 0.1911 - categorical_accuracy: 0.9615 - val_loss: 0.3841 - val_categorical_accuracy: 0.9000\n",
      "Epoch 38/50\n",
      "13/13 [==============================] - ETA: 0s - loss: 0.2240 - categorical_accuracy: 0.9600\n",
      "Epoch 00038: val_loss did not improve from 0.27731\n",
      "13/13 [==============================] - 85s 7s/step - loss: 0.2240 - categorical_accuracy: 0.9600 - val_loss: 0.5364 - val_categorical_accuracy: 0.8600\n",
      "Epoch 39/50\n",
      "13/13 [==============================] - ETA: 0s - loss: 0.2378 - categorical_accuracy: 0.9451\n",
      "Epoch 00039: val_loss did not improve from 0.27731\n",
      "13/13 [==============================] - 77s 6s/step - loss: 0.2378 - categorical_accuracy: 0.9451 - val_loss: 0.5425 - val_categorical_accuracy: 0.8400\n",
      "Epoch 40/50\n",
      "13/13 [==============================] - ETA: 0s - loss: 0.2369 - categorical_accuracy: 0.9423\n",
      "Epoch 00040: val_loss did not improve from 0.27731\n",
      "\n",
      "Epoch 00040: ReduceLROnPlateau reducing learning rate to 9.999998606957661e-11.\n",
      "13/13 [==============================] - 82s 6s/step - loss: 0.2369 - categorical_accuracy: 0.9423 - val_loss: 0.4749 - val_categorical_accuracy: 0.8700\n",
      "Epoch 41/50\n",
      "13/13 [==============================] - ETA: 0s - loss: 0.2082 - categorical_accuracy: 0.9528\n",
      "Epoch 00041: val_loss did not improve from 0.27731\n",
      "13/13 [==============================] - 80s 6s/step - loss: 0.2082 - categorical_accuracy: 0.9528 - val_loss: 0.4970 - val_categorical_accuracy: 0.8600\n",
      "Epoch 42/50\n",
      "13/13 [==============================] - ETA: 0s - loss: 0.1948 - categorical_accuracy: 0.9548\n",
      "Epoch 00042: val_loss did not improve from 0.27731\n",
      "13/13 [==============================] - 80s 6s/step - loss: 0.1948 - categorical_accuracy: 0.9548 - val_loss: 0.5284 - val_categorical_accuracy: 0.8700\n",
      "Epoch 43/50\n",
      "13/13 [==============================] - ETA: 0s - loss: 0.1706 - categorical_accuracy: 0.9749\n",
      "Epoch 00043: val_loss did not improve from 0.27731\n",
      "\n",
      "Epoch 00043: ReduceLROnPlateau reducing learning rate to 9.99999874573554e-12.\n",
      "13/13 [==============================] - 82s 6s/step - loss: 0.1706 - categorical_accuracy: 0.9749 - val_loss: 0.3931 - val_categorical_accuracy: 0.8800\n",
      "Epoch 44/50\n",
      "13/13 [==============================] - ETA: 0s - loss: 0.2157 - categorical_accuracy: 0.9545\n",
      "Epoch 00044: val_loss did not improve from 0.27731\n",
      "13/13 [==============================] - 76s 6s/step - loss: 0.2157 - categorical_accuracy: 0.9545 - val_loss: 0.5329 - val_categorical_accuracy: 0.8500\n",
      "Epoch 45/50\n",
      "13/13 [==============================] - ETA: 0s - loss: 0.2077 - categorical_accuracy: 0.9599\n",
      "Epoch 00045: val_loss did not improve from 0.27731\n",
      "13/13 [==============================] - 83s 6s/step - loss: 0.2077 - categorical_accuracy: 0.9599 - val_loss: 0.3491 - val_categorical_accuracy: 0.9000\n",
      "Epoch 46/50\n",
      "13/13 [==============================] - ETA: 0s - loss: 0.2229 - categorical_accuracy: 0.9487\n",
      "Epoch 00046: val_loss did not improve from 0.27731\n",
      "\n",
      "Epoch 00046: ReduceLROnPlateau reducing learning rate to 9.999999092680235e-13.\n",
      "13/13 [==============================] - 71s 5s/step - loss: 0.2229 - categorical_accuracy: 0.9487 - val_loss: 0.3735 - val_categorical_accuracy: 0.8900\n",
      "Epoch 47/50\n",
      "13/13 [==============================] - ETA: 0s - loss: 0.2158 - categorical_accuracy: 0.9508\n",
      "Epoch 00047: val_loss did not improve from 0.27731\n",
      "13/13 [==============================] - 86s 7s/step - loss: 0.2158 - categorical_accuracy: 0.9508 - val_loss: 0.4876 - val_categorical_accuracy: 0.8600\n",
      "Epoch 48/50\n",
      "13/13 [==============================] - ETA: 0s - loss: 0.2246 - categorical_accuracy: 0.9500\n",
      "Epoch 00048: val_loss did not improve from 0.27731\n",
      "13/13 [==============================] - 70s 5s/step - loss: 0.2246 - categorical_accuracy: 0.9500 - val_loss: 0.4034 - val_categorical_accuracy: 0.8900\n",
      "Epoch 49/50\n",
      "13/13 [==============================] - ETA: 0s - loss: 0.2092 - categorical_accuracy: 0.9502\n",
      "Epoch 00049: val_loss improved from 0.27731 to 0.27121, saving model to model_13_2021-11-2804_32_25.433727/model-00049-0.20919-0.95023-0.27121-0.93000.h5\n",
      "13/13 [==============================] - 84s 6s/step - loss: 0.2092 - categorical_accuracy: 0.9502 - val_loss: 0.2712 - val_categorical_accuracy: 0.9300\n",
      "Epoch 50/50\n",
      "13/13 [==============================] - ETA: 0s - loss: 0.2084 - categorical_accuracy: 0.9606\n",
      "Epoch 00050: val_loss did not improve from 0.27121\n",
      "13/13 [==============================] - 72s 6s/step - loss: 0.2084 - categorical_accuracy: 0.9606 - val_loss: 0.4150 - val_categorical_accuracy: 0.8900\n"
     ]
    }
   ],
   "source": [
    "hist1 = model.fit(train_generator, steps_per_epoch=steps_per_epoch, epochs=num_epochs, verbose=1, \n",
    "                    callbacks=callbacks_list, validation_data=val_generator, \n",
    "                    validation_steps=validation_steps, class_weight=None, workers=1, initial_epoch=0)"
   ]
  },
  {
   "cell_type": "code",
   "execution_count": null,
   "metadata": {},
   "outputs": [],
   "source": []
  }
 ],
 "metadata": {
  "kernelspec": {
   "display_name": "Python 3",
   "language": "python",
   "name": "python3"
  },
  "language_info": {
   "codemirror_mode": {
    "name": "ipython",
    "version": 3
   },
   "file_extension": ".py",
   "mimetype": "text/x-python",
   "name": "python",
   "nbconvert_exporter": "python",
   "pygments_lexer": "ipython3",
   "version": "3.6.9"
  }
 },
 "nbformat": 4,
 "nbformat_minor": 4
}
